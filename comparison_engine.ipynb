{
 "cells": [
  {
   "cell_type": "raw",
   "metadata": {
    "vscode": {
     "languageId": "raw"
    }
   },
   "source": [
    "# ⚖️ Student vs Reference Comparison Engine\n",
    "\n",
    "Bu notebook **Aufgabe 4**'ün kalbi! Student submissions ile reference solutions'ı karşılaştırıyoruz:\n",
    "\n",
    "1. **Reference solutions** database yükleme\n",
    "2. **Student submissions** analizi (validation set)\n",
    "3. **Claude ile comparison** - student vs reference  \n",
    "4. **Scoring system** - final evaluation\n",
    "5. **Results export** für die Bewertung\n"
   ]
  },
  {
   "cell_type": "raw",
   "metadata": {
    "vscode": {
     "languageId": "raw"
    }
   },
   "source": [
    "## 🔧 Setup und OpenRouter Claude API\n"
   ]
  },
  {
   "cell_type": "code",
   "execution_count": 1,
   "metadata": {},
   "outputs": [
    {
     "name": "stdout",
     "output_type": "stream",
     "text": [
      "✅ OpenRouter Claude API initialized\n",
      "🎯 Comparison engine ready!\n",
      "✅ All imports and setup completed!\n"
     ]
    }
   ],
   "source": [
    "import os\n",
    "import json\n",
    "import base64\n",
    "import requests\n",
    "import pandas as pd\n",
    "import matplotlib.pyplot as plt\n",
    "from PIL import Image\n",
    "from datetime import datetime\n",
    "from tqdm import tqdm\n",
    "import time\n",
    "import warnings\n",
    "warnings.filterwarnings('ignore')\n",
    "\n",
    "# Local imports\n",
    "from predict import predict_image\n",
    "from prompt_templates import prompt_templates\n",
    "\n",
    "# OpenRouter Claude API Setup (from previous notebook)\n",
    "class OpenRouterClaudeAnalyzer:\n",
    "    def __init__(self, api_key=None):\n",
    "        key = api_key or os.getenv('OPENROUTER_API_KEY')\n",
    "        if not key:\n",
    "            raise ValueError(\"❌ OpenRouter API key required!\")\n",
    "        \n",
    "        self.api_key = key\n",
    "        self.base_url = \"https://openrouter.ai/api/v1/chat/completions\"\n",
    "        self.model = \"anthropic/claude-3-sonnet:beta\"\n",
    "        \n",
    "        print(\"✅ OpenRouter Claude API initialized\")\n",
    "    \n",
    "    def encode_image(self, image_path):\n",
    "        try:\n",
    "            with open(image_path, \"rb\") as image_file:\n",
    "                return base64.b64encode(image_file.read()).decode('utf-8')\n",
    "        except Exception as e:\n",
    "            print(f\"❌ Image encoding error: {e}\")\n",
    "            return None\n",
    "    \n",
    "    def get_image_media_type(self, image_path):\n",
    "        ext = os.path.splitext(image_path)[1].lower()\n",
    "        return {\"jpg\": \"image/jpeg\", \"jpeg\": \"image/jpeg\", \"png\": \"image/png\"}.get(ext[1:], \"image/jpeg\")\n",
    "    \n",
    "    def analyze_comparison(self, student_image_path, reference_image_path, comparison_prompt, max_retries=3):\n",
    "        \"\"\"Two images comparison with Claude\"\"\"\n",
    "        student_b64 = self.encode_image(student_image_path)\n",
    "        reference_b64 = self.encode_image(reference_image_path)\n",
    "        \n",
    "        if not student_b64 or not reference_b64:\n",
    "            return {\"error\": \"Failed to encode images\"}\n",
    "        \n",
    "        student_media = self.get_image_media_type(student_image_path)\n",
    "        reference_media = self.get_image_media_type(reference_image_path)\n",
    "        \n",
    "        headers = {\n",
    "            \"Authorization\": f\"Bearer {self.api_key}\",\n",
    "            \"Content-Type\": \"application/json\",\n",
    "            \"HTTP-Referer\": \"http://localhost:8888\",\n",
    "            \"X-Title\": \"SAP Comparison Tool\"\n",
    "        }\n",
    "        \n",
    "        data = {\n",
    "            \"model\": self.model,\n",
    "            \"max_tokens\": 2000,\n",
    "            \"temperature\": 0.1,\n",
    "            \"messages\": [\n",
    "                {\n",
    "                    \"role\": \"user\",\n",
    "                    \"content\": [\n",
    "                        {\"type\": \"text\", \"text\": \"**STUDENT SUBMISSION:**\"},\n",
    "                        {\n",
    "                            \"type\": \"image_url\",\n",
    "                            \"image_url\": {\"url\": f\"data:{student_media};base64,{student_b64}\"}\n",
    "                        },\n",
    "                        {\"type\": \"text\", \"text\": \"**REFERENCE SOLUTION (MUSTERLÖSUNG):**\"},\n",
    "                        {\n",
    "                            \"type\": \"image_url\",\n",
    "                            \"image_url\": {\"url\": f\"data:{reference_media};base64,{reference_b64}\"}\n",
    "                        },\n",
    "                        {\"type\": \"text\", \"text\": comparison_prompt}\n",
    "                    ]\n",
    "                }\n",
    "            ]\n",
    "        }\n",
    "        \n",
    "        for attempt in range(max_retries):\n",
    "            try:\n",
    "                response = requests.post(self.base_url, headers=headers, json=data, timeout=90)\n",
    "                \n",
    "                if response.status_code == 200:\n",
    "                    result = response.json()\n",
    "                    content = result.get('choices', [{}])[0].get('message', {}).get('content', '')\n",
    "                    return {\"response\": content}\n",
    "                else:\n",
    "                    return {\"error\": f\"HTTP {response.status_code}: {response.text}\"}\n",
    "                    \n",
    "            except Exception as e:\n",
    "                if attempt < max_retries - 1:\n",
    "                    time.sleep(5)\n",
    "                    continue\n",
    "                return {\"error\": f\"Request failed: {str(e)}\"}\n",
    "        \n",
    "        return {\"error\": \"Max retries exceeded\"}\n",
    "\n",
    "# Initialize API\n",
    "API_KEY = \"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\"\n",
    "\n",
    "try:\n",
    "    claude_analyzer = OpenRouterClaudeAnalyzer(api_key=API_KEY)\n",
    "    print(\"🎯 Comparison engine ready!\")\n",
    "except Exception as e:\n",
    "    print(f\"❌ Setup failed: {e}\")\n",
    "\n",
    "print(\"✅ All imports and setup completed!\")\n"
   ]
  },
  {
   "cell_type": "code",
   "execution_count": null,
   "metadata": {},
   "outputs": [],
   "source": []
  }
 ],
 "metadata": {
  "kernelspec": {
   "display_name": "Python 3 (ipykernel)",
   "language": "python",
   "name": "python3"
  },
  "language_info": {
   "codemirror_mode": {
    "name": "ipython",
    "version": 3
   },
   "file_extension": ".py",
   "mimetype": "text/x-python",
   "name": "python",
   "nbconvert_exporter": "python",
   "pygments_lexer": "ipython3",
   "version": "3.11.4"
  }
 },
 "nbformat": 4,
 "nbformat_minor": 2
}
