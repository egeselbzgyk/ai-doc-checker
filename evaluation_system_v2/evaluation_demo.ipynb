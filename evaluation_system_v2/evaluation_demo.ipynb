{
 "cells": [
  {
   "cell_type": "markdown",
   "metadata": {
    "vscode": {
     "languageId": "raw"
    }
   },
   "source": [
    "# AI Doc Checker - Evaluation System V2\n",
    "\n",
    "Complete evaluation system for student PDF submissions with SAP BW content.\n",
    "\n",
    "## System Overview\n",
    "\n",
    "1. **PDF Processing**: Extract images from student PDF submissions\n",
    "2. **Classification**: Use EfficientNet to classify images into 6 categories\n",
    "3. **Evaluability Check**: Use Qwen to check if images are suitable for evaluation\n",
    "4. **Metadata Matching**: Find best reference solutions based on metadata similarity\n",
    "5. **Detailed Evaluation**: Compare student work with reference and provide scoring (0-100)\n",
    "6. **Final Result**: Overall score with pass/fail (≥70 = bestanden)\n"
   ]
  },
  {
   "cell_type": "code",
   "execution_count": 1,
   "metadata": {},
   "outputs": [],
   "source": [
    "import os\n",
    "import sys\n",
    "import json\n",
    "from datetime import datetime\n",
    "\n",
    "# Add parent directory to path for imports\n",
    "sys.path.append('..')\n",
    "\n",
    "from evaluation_engine import EvaluationEngine\n",
    "from metadata_generator import MetadataGenerator\n",
    "from qwen_client import QwenClient\n",
    "from image_classifier import ImageClassifier\n",
    "from pdf_processor import PDFImageExtractor\n"
   ]
  },
  {
   "cell_type": "code",
   "execution_count": 2,
   "metadata": {},
   "outputs": [
    {
     "name": "stdout",
     "output_type": "stream",
     "text": [
      "Qwen Server Status:\n",
      "Status: healthy\n",
      "Model Loaded: True\n",
      "CUDA Available: True\n",
      "Qwen server is ready for evaluation\n"
     ]
    }
   ],
   "source": [
    "# Test Qwen connection\n",
    "qwen_client = QwenClient()\n",
    "health = qwen_client.health_check()\n",
    "\n",
    "print(\"Qwen Server Status:\")\n",
    "print(f\"Status: {health.get('status')}\")\n",
    "print(f\"Model Loaded: {health.get('model_loaded')}\")\n",
    "print(f\"CUDA Available: {health.get('cuda_available')}\")\n",
    "\n",
    "if not health.get('model_loaded'):\n",
    "    print(\"Qwen server is not ready. Please check the server.\")\n",
    "else:\n",
    "    print(\"Qwen server is ready for evaluation\")\n"
   ]
  },
  {
   "cell_type": "code",
   "execution_count": 3,
   "metadata": {},
   "outputs": [
    {
     "name": "stdout",
     "output_type": "stream",
     "text": [
      "✅ EfficientNet model loaded from ../model/efficientnet_b0_best.pth\n",
      "EfficientNet classifier loaded\n",
      "Categories: ['Data Source', 'Data-Flow', 'Data-Transfer-Process', 'Excel-Tabelle', 'Info-Object', 'Transformation']\n",
      "Confidence threshold: 0.6\n"
     ]
    }
   ],
   "source": [
    "# Initialize classifier\n",
    "try:\n",
    "    classifier = ImageClassifier(model_path=\"../model/efficientnet_b0_best.pth\")\n",
    "    print(\"EfficientNet classifier loaded\")\n",
    "    print(f\"Categories: {classifier.class_names}\")\n",
    "    print(f\"Confidence threshold: {classifier.confidence_threshold}\")\n",
    "except Exception as e:\n",
    "    print(f\"Failed to load classifier: {e}\")\n"
   ]
  },
  {
   "cell_type": "code",
   "execution_count": 4,
   "metadata": {},
   "outputs": [
    {
     "name": "stdout",
     "output_type": "stream",
     "text": [
      "✅ EfficientNet model loaded from ./model/efficientnet_b0_best.pth\n",
      "✅ Port 5000 is accessible (SSH tunnel likely active)\n",
      "✅ Qwen client connected and ready\n",
      "   Status: healthy\n",
      "   Model Loaded: True\n",
      "   CUDA Available: True\n",
      "🔄 Loading metadata database from: metadata_database.json\n",
      "✅ Metadata database loaded:\n",
      "   Total categories: 6\n",
      "   - Data Source: 68 images\n",
      "   - Data-Flow: 44 images\n",
      "   - Data-Transfer-Process: 42 images\n",
      "   - Excel-Tabelle: 132 images\n",
      "   - Info-Object: 190 images\n",
      "   - Transformation: 39 images\n",
      "✅ Evaluation Engine initialized\n",
      "Evaluation engine initialized and ready\n"
     ]
    }
   ],
   "source": [
    "# Initialize evaluation engine\n",
    "metadata_db_path = \"metadata_database.json\"\n",
    "\n",
    "try:\n",
    "    engine = EvaluationEngine(metadata_db_path=metadata_db_path)\n",
    "    print(\"Evaluation engine initialized and ready\")\n",
    "except Exception as e:\n",
    "    print(f\"Failed to initialize evaluation engine: {e}\")\n",
    "    print(\"Make sure the metadata database exists and Qwen server is running.\")\n"
   ]
  },
  {
   "cell_type": "code",
   "execution_count": 5,
   "metadata": {},
   "outputs": [
    {
     "name": "stdout",
     "output_type": "stream",
     "text": [
      "Starting full evaluation...\n",
      "==================================================\n",
      "🔄 Extracting images from PDF...\n",
      "✅ Extracted 1 images\n",
      "🔄 Classifying images...\n",
      "  ✅ page_1_img_1.png: Excel-Tabelle (0.997)\n",
      "🔄 Checking image evaluability...\n",
      "  ✅ page_1_img_1.png: Evaluable\n",
      "🔄 Performing detailed evaluations...\n",
      "🔍 Finding top 1 references for category: 'Excel-Tabelle'\n",
      "   Available categories: ['Data Source', 'Data-Flow', 'Data-Transfer-Process', 'Excel-Tabelle', 'Info-Object', 'Transformation']\n",
      "   Found 132 reference images for 'Excel-Tabelle'\n",
      "  🔍 Evaluating against 1 references...\n",
      "    ⚠️ Reference 67f6b67affc04f8899b5ab8867eaabb7.png not found, skipping...\n",
      "  ❌ No successful evaluations for page_1_img_1.png\n",
      "\n",
      "==================================================\n",
      "EVALUATION COMPLETED\n",
      "==================================================\n",
      "\n",
      "📊 EVALUATION SUMMARY\n",
      "==================\n",
      "\n",
      "PDF: test_abgabe.pdf\n",
      "Date: 2025-07-04T21:41:15.255171\n",
      "\n",
      "📈 RESULTS:\n",
      "- Images extracted: 1\n",
      "- Valid classifications: 1\n",
      "- Successful evaluations: 0\n",
      "- Overall Score: 0.0/100\n",
      "- Result: ❌ NICHT BESTANDEN\n",
      "\n",
      "📝 DETAILED SCORES:\n",
      "\n",
      "⚠️  ERRORS:\n",
      "- No successful evaluations\n",
      "\n",
      "💾 Evaluation result saved to: evaluation_result_test_abgabe_20250704_214120.json\n",
      "\n",
      "Full results saved to: evaluation_result_test_abgabe_20250704_214120.json\n"
     ]
    }
   ],
   "source": [
    "# Evaluate a student PDF submission\n",
    "test_pdf_path = r\"C:\\Users\\egese\\Documents\\GitHub\\ai-doc-checker\\test_abgabe.pdf\"  # Replace with actual PDF path\n",
    "\n",
    "if 'engine' in locals() and os.path.exists(test_pdf_path):\n",
    "    print(\"Starting full evaluation...\")\n",
    "    print(\"=\" * 50)\n",
    "    \n",
    "    # Run evaluation\n",
    "    result = engine.evaluate_pdf_submission(test_pdf_path)\n",
    "    \n",
    "    print(\"\\n\" + \"=\" * 50)\n",
    "    print(\"EVALUATION COMPLETED\")\n",
    "    print(\"=\" * 50)\n",
    "    \n",
    "    # Display summary\n",
    "    summary = engine.get_evaluation_summary(result)\n",
    "    print(summary)\n",
    "    \n",
    "    # Save result\n",
    "    output_file = engine.save_evaluation_result(result)\n",
    "    print(f\"\\nFull results saved to: {output_file}\")\n",
    "    \n",
    "else:\n",
    "    print(\" Cannot run full evaluation:\")\n",
    "    if 'engine' not in locals():\n",
    "        print(\"- Evaluation engine not initialized\")\n",
    "    if not os.path.exists(test_pdf_path):\n",
    "        print(f\"- Test PDF not found: {test_pdf_path}\")\n",
    "        print(\"- Place a test PDF at the specified path to run evaluation\")\n"
   ]
  },
  {
   "cell_type": "code",
   "execution_count": null,
   "metadata": {},
   "outputs": [
    {
     "name": "stdout",
     "output_type": "stream",
     "text": [
      "SYSTEM STATUS SUMMARY\n",
      "✅ Qwen Server\n",
      "✅ EfficientNet Classifier\n",
      "✅ Metadata Database\n",
      "✅ Evaluation Engine\n",
      "✅ PDF Processor\n",
      "\n",
      "System Ready: YES\n",
      "\n",
      "The evaluation system is fully operational!\n",
      "You can now process student PDF submissions.\n"
     ]
    },
    {
     "ename": "",
     "evalue": "",
     "output_type": "error",
     "traceback": [
      "\u001b[1;31mThe Kernel crashed while executing code in the current cell or a previous cell. \n",
      "\u001b[1;31mPlease review the code in the cell(s) to identify a possible cause of the failure. \n",
      "\u001b[1;31mClick <a href='https://aka.ms/vscodeJupyterKernelCrash'>here</a> for more info. \n",
      "\u001b[1;31mView Jupyter <a href='command:jupyter.viewOutput'>log</a> for further details."
     ]
    }
   ],
   "source": [
    "print(\"SYSTEM STATUS SUMMARY\")\n",
    "\n",
    "# Check all components\n",
    "components = {\n",
    "    \"Qwen Server\": 'qwen_client' in locals() and qwen_client.health_check().get('model_loaded'),\n",
    "    \"EfficientNet Classifier\": 'classifier' in locals(),\n",
    "    \"Metadata Database\": os.path.exists(metadata_db_path),\n",
    "    \"Evaluation Engine\": 'engine' in locals(),\n",
    "    \"PDF Processor\": True  # Always available\n",
    "}\n",
    "\n",
    "for component, status in components.items():\n",
    "    status_icon = \"✅\" if status else \"❌\"\n",
    "    print(f\"{status_icon} {component}\")\n",
    "\n",
    "all_ready = all(components.values())\n",
    "print(f\"\\nSystem Ready: {'YES' if all_ready else 'NO'}\")\n",
    "\n",
    "if all_ready:\n",
    "    print(\"\\nThe evaluation system is fully operational!\")\n",
    "    print(\"You can now process student PDF submissions.\")\n",
    "else:\n",
    "    print(\"\\nSome components need attention:\")\n",
    "    for component, status in components.items():\n",
    "        if not status:\n",
    "            print(f\" - {component}\")\n"
   ]
  }
 ],
 "metadata": {
  "kernelspec": {
   "display_name": "Python 3",
   "language": "python",
   "name": "python3"
  },
  "language_info": {
   "codemirror_mode": {
    "name": "ipython",
    "version": 3
   },
   "file_extension": ".py",
   "mimetype": "text/x-python",
   "name": "python",
   "nbconvert_exporter": "python",
   "pygments_lexer": "ipython3",
   "version": "3.13.5"
  }
 },
 "nbformat": 4,
 "nbformat_minor": 2
}
