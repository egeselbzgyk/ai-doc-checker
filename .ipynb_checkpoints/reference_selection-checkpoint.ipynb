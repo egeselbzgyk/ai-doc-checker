{
 "cells": [
  {
   "cell_type": "raw",
   "metadata": {
    "vscode": {
     "languageId": "raw"
    }
   },
   "source": [
    "# 🎯 Reference Solution Selection Tool\n",
    "\n",
    "Bu notebook ile validation analysis sonuçlarından **en iyi reference solutions**'ı seçeceğiz:\n",
    "1. Validation results'ı yükleyeceğiz\n",
    "2. Her kategori için top candidates'ı inceleyeceğiz  \n",
    "3. Manual review ile final **Musterlösung** seçeceğiz\n",
    "4. Reference database oluşturacağız\n"
   ]
  },
  {
   "cell_type": "raw",
   "metadata": {
    "vscode": {
     "languageId": "raw"
    }
   },
   "source": [
    "## 🔧 Setup ve Data Loading\n"
   ]
  },
  {
   "cell_type": "code",
   "execution_count": 1,
   "metadata": {},
   "outputs": [
    {
     "name": "stdout",
     "output_type": "stream",
     "text": [
      "✅ All imports successful!\n"
     ]
    }
   ],
   "source": [
    "import os\n",
    "import json\n",
    "import pandas as pd\n",
    "import matplotlib.pyplot as plt\n",
    "from PIL import Image\n",
    "from datetime import datetime\n",
    "import warnings\n",
    "warnings.filterwarnings('ignore')\n",
    "\n",
    "print(\"✅ All imports successful!\")\n"
   ]
  },
  {
   "cell_type": "code",
   "execution_count": 3,
   "metadata": {},
   "outputs": [
    {
     "name": "stdout",
     "output_type": "stream",
     "text": [
      "📁 Results directory: results/validation_analysis/\n",
      "📄 Available result files: 1\n",
      "🎯 Available candidate files: 1\n",
      "\n",
      "📊 Latest results: validation_claude_results_20250619_191555.json\n",
      "🎯 Latest candidates: reference_candidates_claude_20250619_191555.json\n"
     ]
    }
   ],
   "source": [
    "# Data paths\n",
    "RESULTS_DIR = \"results/validation_analysis/\"\n",
    "VAL_DIR = r\"C:\\Users\\egese\\Desktop\\dataset\\val\\SAP\"\n",
    "REFERENCE_OUTPUT = \"results/reference_solutions/\"\n",
    "\n",
    "# Output directory oluştur\n",
    "os.makedirs(REFERENCE_OUTPUT, exist_ok=True)\n",
    "\n",
    "# Available result files listele\n",
    "if os.path.exists(RESULTS_DIR):\n",
    "    result_files = [f for f in os.listdir(RESULTS_DIR) if f.startswith('validation_claude_results_')]\n",
    "    candidate_files = [f for f in os.listdir(RESULTS_DIR) if f.startswith('reference_candidates_')]\n",
    "    \n",
    "    print(f\"📁 Results directory: {RESULTS_DIR}\")\n",
    "    print(f\"📄 Available result files: {len(result_files)}\")\n",
    "    print(f\"🎯 Available candidate files: {len(candidate_files)}\")\n",
    "    \n",
    "    if result_files:\n",
    "        latest_results = sorted(result_files)[-1]\n",
    "        print(f\"\\n📊 Latest results: {latest_results}\")\n",
    "    \n",
    "    if candidate_files:\n",
    "        latest_candidates = sorted(candidate_files)[-1]\n",
    "        print(f\"🎯 Latest candidates: {latest_candidates}\")\n",
    "else:\n",
    "    print(\"❌ Results directory not found! Run validation analysis first.\")\n"
   ]
  },
  {
   "cell_type": "code",
   "execution_count": null,
   "metadata": {},
   "outputs": [],
   "source": []
  }
 ],
 "metadata": {
  "kernelspec": {
   "display_name": "Python 3 (ipykernel)",
   "language": "python",
   "name": "python3"
  },
  "language_info": {
   "codemirror_mode": {
    "name": "ipython",
    "version": 3
   },
   "file_extension": ".py",
   "mimetype": "text/x-python",
   "name": "python",
   "nbconvert_exporter": "python",
   "pygments_lexer": "ipython3",
   "version": "3.11.4"
  }
 },
 "nbformat": 4,
 "nbformat_minor": 2
}
