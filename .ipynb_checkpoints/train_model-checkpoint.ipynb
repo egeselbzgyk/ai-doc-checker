{
 "cells": [
  {
   "cell_type": "code",
   "execution_count": 1,
   "id": "851e17c3",
   "metadata": {},
   "outputs": [],
   "source": [
    "from torchvision import datasets, transforms\n",
    "from torch.utils.data import DataLoader\n",
    "\n",
    "# Dönüştürme işlemleri: EfficientNet'in beklediği gibi normalize et\n",
    "# + Augmentation\n",
    "transform = transforms.Compose([\n",
    "    transforms.Resize((224, 224)),\n",
    "    transforms.RandomHorizontalFlip(p=0.5),\n",
    "    transforms.RandomRotation(degrees=15),\n",
    "    transforms.ColorJitter(brightness=0.2, contrast=0.2, saturation=0.2, hue=0.1),\n",
    "    transforms.ToTensor(),\n",
    "    transforms.Normalize(\n",
    "        mean=[0.485, 0.456, 0.406],\n",
    "        std=[0.229, 0.224, 0.225]\n",
    "    )\n",
    "])\n",
    "\n",
    "\n",
    "# Eğitim ve doğrulama verisi\n",
    "train_dataset = datasets.ImageFolder(r\"C:\\Users\\egese\\Desktop\\dataset\\train\", transform=transform)\n",
    "val_dataset = datasets.ImageFolder(r\"C:\\Users\\egese\\Desktop\\dataset\\val\", transform=transform)\n",
    "\n",
    "\n",
    "\n",
    "train_loader = DataLoader(train_dataset, batch_size=32, shuffle=True)\n",
    "val_loader = DataLoader(val_dataset, batch_size=32, shuffle=False)"
   ]
  },
  {
   "cell_type": "code",
   "execution_count": 2,
   "id": "f5f655f4",
   "metadata": {},
   "outputs": [],
   "source": [
    "from torchvision.models import efficientnet_b0, EfficientNet_B0_Weights\n",
    "import torch.nn as nn\n",
    "\n",
    "# Pretrained EfficientNet-B0\n",
    "weights = EfficientNet_B0_Weights.DEFAULT\n",
    "model = efficientnet_b0(weights=weights)\n",
    "\n",
    "# Sınıf sayısını otomatik al\n",
    "num_classes = len(train_dataset.classes)\n",
    "\n",
    "# Son katmanı değiştir (1000 → kendi sınıf sayın)\n",
    "model.classifier[1] = nn.Linear(model.classifier[1].in_features, num_classes)\n"
   ]
  },
  {
   "cell_type": "code",
   "execution_count": 3,
   "id": "84124e3f",
   "metadata": {},
   "outputs": [],
   "source": [
    "import torch\n",
    "\n",
    "device = torch.device(\"cuda\" if torch.cuda.is_available() else \"cpu\")\n",
    "model = model.to(device)\n",
    "\n",
    "criterion = nn.CrossEntropyLoss()\n",
    "optimizer = torch.optim.Adam(model.parameters(), lr=0.001)"
   ]
  },
  {
   "cell_type": "code",
   "execution_count": 4,
   "id": "aec65e28",
   "metadata": {},
   "outputs": [
    {
     "name": "stdout",
     "output_type": "stream",
     "text": [
      "📚 Epoch 1 | Loss: 22.30 | Train Accuracy: 67.25%\n",
      "📚 Epoch 2 | Loss: 6.98 | Train Accuracy: 89.34%\n",
      "📚 Epoch 3 | Loss: 3.59 | Train Accuracy: 94.38%\n",
      "📚 Epoch 4 | Loss: 6.32 | Train Accuracy: 93.60%\n",
      "📚 Epoch 5 | Loss: 2.82 | Train Accuracy: 94.19%\n"
     ]
    }
   ],
   "source": [
    "epochs = 5\n",
    "\n",
    "for epoch in range(epochs):\n",
    "    model.train()\n",
    "    total_loss = 0\n",
    "    correct = 0\n",
    "\n",
    "    for imgs, labels in train_loader:\n",
    "        imgs, labels = imgs.to(device), labels.to(device)\n",
    "\n",
    "        optimizer.zero_grad()\n",
    "        outputs = model(imgs)\n",
    "        loss = criterion(outputs, labels)\n",
    "        loss.backward()\n",
    "        optimizer.step()\n",
    "\n",
    "        total_loss += loss.item()\n",
    "        correct += (outputs.argmax(1) == labels).sum().item()\n",
    "\n",
    "    acc = 100 * correct / len(train_dataset)\n",
    "    print(f\"📚 Epoch {epoch+1} | Loss: {total_loss:.2f} | Train Accuracy: {acc:.2f}%\")"
   ]
  },
  {
   "cell_type": "code",
   "execution_count": 5,
   "id": "e06877a3",
   "metadata": {},
   "outputs": [
    {
     "name": "stdout",
     "output_type": "stream",
     "text": [
      "🧪 Doğrulama Doğruluğu: 2.78%\n"
     ]
    }
   ],
   "source": [
    "model.eval()\n",
    "correct = 0\n",
    "\n",
    "with torch.no_grad():\n",
    "    for imgs, labels in val_loader:\n",
    "        imgs, labels = imgs.to(device), labels.to(device)\n",
    "        outputs = model(imgs)\n",
    "        correct += (outputs.argmax(1) == labels).sum().item()\n",
    "\n",
    "val_acc = 100 * correct / len(val_dataset)\n",
    "print(f\"🧪 Doğrulama Doğruluğu: {val_acc:.2f}%\")"
   ]
  },
  {
   "cell_type": "code",
   "execution_count": 10,
   "id": "1544e1fc",
   "metadata": {},
   "outputs": [
    {
     "name": "stdout",
     "output_type": "stream",
     "text": [
      "📷 Tahmin: Excel (66.04%)\n"
     ]
    }
   ],
   "source": [
    "from PIL import Image\n",
    "import torch\n",
    "import torch.nn.functional as F\n",
    "\n",
    "# 🔸 Test etmek istediğin resmin yolu\n",
    "test_image_path = r\"C:\\Users\\egese\\Desktop\\dataset\\test\\excell.jpg\"\n",
    "\n",
    "# 🔸 Resmi yükle ve dönüştür\n",
    "img = Image.open(test_image_path).convert(\"RGB\")\n",
    "img_tensor = transform(img).unsqueeze(0).to(device)\n",
    "\n",
    "# 🔸 Tahmin yap\n",
    "model.eval()\n",
    "with torch.no_grad():\n",
    "    output = model(img_tensor)\n",
    "    probs = F.softmax(output[0], dim=0)\n",
    "    pred_class = probs.argmax().item()\n",
    "    confidence = probs[pred_class].item()\n",
    "\n",
    "# 🔸 Sınıf isimleri\n",
    "class_names = train_dataset.classes\n",
    "\n",
    "# 🔸 Sonucu yazdır\n",
    "print(f\"📷 Tahmin: {class_names[pred_class]} ({confidence*100:.2f}%)\")\n"
   ]
  },
  {
   "cell_type": "code",
   "execution_count": null,
   "id": "b8c84a08",
   "metadata": {},
   "outputs": [],
   "source": []
  }
 ],
 "metadata": {
  "kernelspec": {
   "display_name": "Python 3 (ipykernel)",
   "language": "python",
   "name": "python3"
  },
  "language_info": {
   "codemirror_mode": {
    "name": "ipython",
    "version": 3
   },
   "file_extension": ".py",
   "mimetype": "text/x-python",
   "name": "python",
   "nbconvert_exporter": "python",
   "pygments_lexer": "ipython3",
   "version": "3.11.4"
  }
 },
 "nbformat": 4,
 "nbformat_minor": 5
}
