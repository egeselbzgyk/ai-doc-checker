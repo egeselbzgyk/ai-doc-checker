{
 "cells": [
  {
   "cell_type": "code",
   "execution_count": null,
   "id": "4b7c2a13",
   "metadata": {},
   "outputs": [],
   "source": [
    "import os\n",
    "import json\n",
    "from predict import predict_image\n",
    "from prompt_templates import prompt_templates\n",
    "from PIL import Image\n",
    "import random\n",
    "\n",
    "# --- Settings ---\n",
    "image_dir = r\"C:\\Users\\egese\\Desktop\\dataset\\val\\SAP\"\n",
    "output_dir = \"outputs\"\n",
    "\n",
    "os.makedirs(output_dir, exist_ok=True)\n",
    "\n",
    "# --- Mock JSON response generator (workaround if no LLM) ---\n",
    "def generate_mock_json(predicted_class):\n",
    "    template = prompt_templates.get(predicted_class)\n",
    "    return {\n",
    "        \"class\": predicted_class,\n",
    "        \"mock_description\": f\"This is a fake JSON. Prompt: {template[:60]}...\"\n",
    "    }\n",
    "\n",
    "# --- Process visuals ---\n",
    "for filename in os.listdir(image_dir):\n",
    "    if not filename.lower().endswith((\".png\", \".jpg\", \".jpeg\")):\n",
    "        continue\n",
    "\n",
    "    image_path = os.path.join(image_dir, filename)\n",
    "    print(f\"[+] Processing: {filename}\")\n",
    "\n",
    "    try:\n",
    "        # 1. Class forecast\n",
    "        predicted_class, confidence = predict_image(image_path)\n",
    "        print(f\"    Forecast: {predicted_class} ({confidence:.2%})\")\n",
    "\n",
    "        # 2. Get Prompt template\n",
    "        prompt = prompt_templates.get(predicted_class)\n",
    "        if not prompt:\n",
    "            print(f\"    Warning: prompt not found for '{predicted_class}', skipping.\")\n",
    "            continue\n",
    "\n",
    "        # 3. Create a mock JSON response\n",
    "        result_json = generate_mock_json(predicted_class)\n",
    "\n",
    "        # 4. Save JSON file\n",
    "        json_filename = os.path.splitext(filename)[0] + \".json\"\n",
    "        json_path = os.path.join(output_dir, json_filename)\n",
    "        with open(json_path, \"w\", encoding=\"utf-8\") as f:\n",
    "            json.dump(result_json, f, indent=4, ensure_ascii=False)\n",
    "\n",
    "        print(f\"    ➤ JSON recorded: {json_path}\")\n",
    "\n",
    "    except Exception as e:\n",
    "        print(f\"    ERROR: {e}\")\n"
   ]
  }
 ],
 "metadata": {
  "kernelspec": {
   "display_name": "Python 3 (ipykernel)",
   "language": "python",
   "name": "python3"
  },
  "language_info": {
   "codemirror_mode": {
    "name": "ipython",
    "version": 3
   },
   "file_extension": ".py",
   "mimetype": "text/x-python",
   "name": "python",
   "nbconvert_exporter": "python",
   "pygments_lexer": "ipython3",
   "version": "3.11.4"
  }
 },
 "nbformat": 4,
 "nbformat_minor": 5
}
