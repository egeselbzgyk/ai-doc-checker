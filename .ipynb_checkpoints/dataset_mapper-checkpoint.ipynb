{
 "cells": [
  {
   "cell_type": "code",
   "execution_count": 1,
   "id": "526f8e9f",
   "metadata": {},
   "outputs": [
    {
     "name": "stdout",
     "output_type": "stream",
     "text": [
      "'ABAP Dictionary' → 'Info-Object'\n",
      "'Bewegungsdaten' → 'Info-Object'\n",
      "'BW4Cockpit (Stammdaten)' → 'Info-Object'\n",
      "'Composite Provider' → 'Info-Object'\n",
      "'Data Flow Object' → 'Data-Flow'\n",
      "'Data Mart' → 'Info-Object'\n",
      "'Data Source' → 'Data Source'\n",
      "'Data Store Object' → 'Info-Object'\n",
      "'Datenvorschau' → 'Data Source'\n",
      "'DTP' → 'Data-Transfer-Process'\n",
      "'Excel' → 'Excel-Tabelle'\n",
      "'Query' → 'Info-Object'\n",
      "'Transformationen' → 'Transformation'\n"
     ]
    }
   ],
   "source": [
    "import os\n",
    "import shutil\n",
    "from label_mapping import label_mapping\n",
    "\n",
    "source_dir = r\"C:\\Users\\egese\\Desktop\\dataset\\train\"\n",
    "target_dir = r\"C:\\Users\\egese\\Desktop\\dataset\\mapped_train\"\n",
    "\n",
    "os.makedirs(target_dir, exist_ok=True)\n",
    "\n",
    "# Process each folder individually\n",
    "for folder in os.listdir(source_dir):\n",
    "    folder_path = os.path.join(source_dir, folder)\n",
    "\n",
    "    if not os.path.isdir(folder_path):\n",
    "        continue  # .Skip DS_Store and stuff like that.\n",
    "\n",
    "    found = False\n",
    "    for keyword, new_label in label_mapping.items():\n",
    "        if keyword.lower() in folder.lower():\n",
    "            dest_path = os.path.join(target_dir, new_label)\n",
    "            os.makedirs(dest_path, exist_ok=True)\n",
    "\n",
    "            for img_file in os.listdir(folder_path):\n",
    "                src_file = os.path.join(folder_path, img_file)\n",
    "                dst_file = os.path.join(dest_path, img_file)\n",
    "                shutil.copy2(src_file, dst_file)\n",
    "\n",
    "            print(f\"'{folder}' → '{new_label}'\")\n",
    "            found = True\n",
    "            break\n",
    "\n",
    "    if not found:\n",
    "        print(f\"'{folder}' is not found and skipped.\")"
   ]
  },
  {
   "cell_type": "code",
   "execution_count": null,
   "id": "c974b0b7",
   "metadata": {},
   "outputs": [],
   "source": []
  }
 ],
 "metadata": {
  "kernelspec": {
   "display_name": "Python 3 (ipykernel)",
   "language": "python",
   "name": "python3"
  },
  "language_info": {
   "codemirror_mode": {
    "name": "ipython",
    "version": 3
   },
   "file_extension": ".py",
   "mimetype": "text/x-python",
   "name": "python",
   "nbconvert_exporter": "python",
   "pygments_lexer": "ipython3",
   "version": "3.11.4"
  }
 },
 "nbformat": 4,
 "nbformat_minor": 5
}
